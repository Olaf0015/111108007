{
 "cells": [
  {
   "attachments": {},
   "cell_type": "markdown",
   "metadata": {},
   "source": [
    "比賽簡介：\n",
    "\n",
    "  概述：\n",
    "    歡迎來到2912年，在這裡需要你的數據科學技能來解決一個宇宙之謎。我們收到了來自四光年外的傳輸消息，情況看起來並不好。\n",
    "\n",
    "    鐵達尼號宇宙飛船是一個月前發射的星際客輪。船上有近13,000名乘客，這艘船開始了處女航，將移民從我們的太陽系運送到三顆圍繞附近恆星運行的新的可居住的系外行星。\n",
    "\n",
    "    鐵達尼號宇宙飛船在繞過半人馬座阿爾法星前往第一個目的地——55 Cancri E的途中，闖進了隱藏在塵埃雲中時空異常區域。可悲的是，它遇到了與1000年前同名遊輪相同的命運。雖然飛船完好無損，但幾乎一半的乘客被運送到另一個維度！\n",
    "\n",
    "  資料來源：\n",
    "    https://www.kaggle.com/competitions/spaceship-titanic/overview\n",
    "    https://www.cnblogs.com/bokeyuan199/p/16997206.html\n",
    "\n",
    "\n",
    "為什麼選擇這個比賽：與機器學習高度相關，且相較其他競賽較為基礎，與剛踏入機器學習領域的我較為契合。\n",
    "\n",
    "\n",
    "資料集、目標介紹：\n",
    "\n",
    "  資料集：\n",
    "    此比賽所使用的數據集中有test.csv / train.csv兩個文件，結果以sample_submission.csv為範本參考。\n",
    "\n",
    "  目標介紹：\n",
    "    為了幫助救援人員找回失踪的乘客，您面臨的挑戰是使用從宇宙飛船損壞的計算機系統中恢復的記錄來預測哪些乘客被傳送到時空異常區域。拯救失蹤人員改變歷史！"
   ]
  },
  {
   "attachments": {},
   "cell_type": "markdown",
   "metadata": {},
   "source": [
    "實作過程如下：程式碼與結果\n",
    "\n",
    "\n",
    "跟上課內容的關聯性：處理缺失值(0、中位數填補)、訓練過程相似、數據可視化(圖表轉換)\n",
    "\n",
    "\n",
    "延伸學習了哪些：利用其他圖表呈現以及訓練模型作為預測結果"
   ]
  },
  {
   "attachments": {},
   "cell_type": "markdown",
   "metadata": {},
   "source": [
    "比賽結果說明：\n",
    "  分數：0.74748 / 排名：1896 (共2429)\n",
    "\n",
    "\n",
    "推測還可能從哪些方式改善：使用不同的訓練模型\n",
    "\n",
    "\n",
    "不同的嘗試與結果分析：\n",
    "  若將以下連結的程式碼上傳至Kaggle，可能會得到更高的準確率，因為他填入缺失值的方式是使用姓名當中的稱謂中位數來填補，比起填中位數要準確的多。(但因著作權問題沒有實際測試，以上為參考蒐集到的相關資料)\n",
    "\n",
    "    程式碼連結：https://github.com/YLTsai0609/Kaggle-Titanic-Top3-percent/blob/master/Titanic%20Top%203%25%20on%20Medium.ipynb\n",
    "    相關資料來源：https://yulongtsai.medium.com/https-medium-com-yulongtsai-titanic-top3-8e64741cc11f\n",
    "\n"
   ]
  },
  {
   "attachments": {},
   "cell_type": "markdown",
   "metadata": {},
   "source": [
    "#匯入 modules"
   ]
  },
  {
   "cell_type": "code",
   "execution_count": 1,
   "metadata": {},
   "outputs": [],
   "source": [
    "import pandas as pd\n",
    "import numpy as np\n",
    "import matplotlib.pyplot as plt\n",
    "import seaborn as sns"
   ]
  },
  {
   "attachments": {},
   "cell_type": "markdown",
   "metadata": {},
   "source": [
    "#匯入資料並觀察資料"
   ]
  },
  {
   "cell_type": "code",
   "execution_count": 4,
   "metadata": {},
   "outputs": [
    {
     "name": "stdout",
     "output_type": "stream",
     "text": [
      "<class 'pandas.core.frame.DataFrame'>\n",
      "RangeIndex: 8693 entries, 0 to 8692\n",
      "Data columns (total 14 columns):\n",
      " #   Column        Non-Null Count  Dtype  \n",
      "---  ------        --------------  -----  \n",
      " 0   PassengerId   8693 non-null   object \n",
      " 1   HomePlanet    8492 non-null   object \n",
      " 2   CryoSleep     8476 non-null   object \n",
      " 3   Cabin         8494 non-null   object \n",
      " 4   Destination   8511 non-null   object \n",
      " 5   Age           8514 non-null   float64\n",
      " 6   VIP           8490 non-null   object \n",
      " 7   RoomService   8512 non-null   float64\n",
      " 8   FoodCourt     8510 non-null   float64\n",
      " 9   ShoppingMall  8485 non-null   float64\n",
      " 10  Spa           8510 non-null   float64\n",
      " 11  VRDeck        8505 non-null   float64\n",
      " 12  Name          8493 non-null   object \n",
      " 13  Transported   8693 non-null   bool   \n",
      "dtypes: bool(1), float64(6), object(7)\n",
      "memory usage: 891.5+ KB\n"
     ]
    }
   ],
   "source": [
    "train = pd.read_csv(\"data/train.csv\")\n",
    "test = pd.read_csv(\"data/test.csv\")\n",
    "train.info()"
   ]
  },
  {
   "attachments": {},
   "cell_type": "markdown",
   "metadata": {},
   "source": [
    "#從上圖中可以得知有不分數據缺失，因此此步驟為查看每一列的缺失數量"
   ]
  },
  {
   "cell_type": "code",
   "execution_count": 5,
   "metadata": {},
   "outputs": [
    {
     "data": {
      "text/html": [
       "<div>\n",
       "<style scoped>\n",
       "    .dataframe tbody tr th:only-of-type {\n",
       "        vertical-align: middle;\n",
       "    }\n",
       "\n",
       "    .dataframe tbody tr th {\n",
       "        vertical-align: top;\n",
       "    }\n",
       "\n",
       "    .dataframe thead th {\n",
       "        text-align: right;\n",
       "    }\n",
       "</style>\n",
       "<table border=\"1\" class=\"dataframe\">\n",
       "  <thead>\n",
       "    <tr style=\"text-align: right;\">\n",
       "      <th></th>\n",
       "      <th>缺失數</th>\n",
       "      <th>缺失率</th>\n",
       "    </tr>\n",
       "  </thead>\n",
       "  <tbody>\n",
       "    <tr>\n",
       "      <th>CryoSleep</th>\n",
       "      <td>217</td>\n",
       "      <td>0.024963</td>\n",
       "    </tr>\n",
       "    <tr>\n",
       "      <th>ShoppingMall</th>\n",
       "      <td>208</td>\n",
       "      <td>0.023927</td>\n",
       "    </tr>\n",
       "    <tr>\n",
       "      <th>VIP</th>\n",
       "      <td>203</td>\n",
       "      <td>0.023352</td>\n",
       "    </tr>\n",
       "    <tr>\n",
       "      <th>HomePlanet</th>\n",
       "      <td>201</td>\n",
       "      <td>0.023122</td>\n",
       "    </tr>\n",
       "    <tr>\n",
       "      <th>Name</th>\n",
       "      <td>200</td>\n",
       "      <td>0.023007</td>\n",
       "    </tr>\n",
       "    <tr>\n",
       "      <th>Cabin</th>\n",
       "      <td>199</td>\n",
       "      <td>0.022892</td>\n",
       "    </tr>\n",
       "    <tr>\n",
       "      <th>VRDeck</th>\n",
       "      <td>188</td>\n",
       "      <td>0.021627</td>\n",
       "    </tr>\n",
       "    <tr>\n",
       "      <th>FoodCourt</th>\n",
       "      <td>183</td>\n",
       "      <td>0.021051</td>\n",
       "    </tr>\n",
       "    <tr>\n",
       "      <th>Spa</th>\n",
       "      <td>183</td>\n",
       "      <td>0.021051</td>\n",
       "    </tr>\n",
       "    <tr>\n",
       "      <th>Destination</th>\n",
       "      <td>182</td>\n",
       "      <td>0.020936</td>\n",
       "    </tr>\n",
       "    <tr>\n",
       "      <th>RoomService</th>\n",
       "      <td>181</td>\n",
       "      <td>0.020821</td>\n",
       "    </tr>\n",
       "    <tr>\n",
       "      <th>Age</th>\n",
       "      <td>179</td>\n",
       "      <td>0.020591</td>\n",
       "    </tr>\n",
       "    <tr>\n",
       "      <th>PassengerId</th>\n",
       "      <td>0</td>\n",
       "      <td>0.000000</td>\n",
       "    </tr>\n",
       "    <tr>\n",
       "      <th>Transported</th>\n",
       "      <td>0</td>\n",
       "      <td>0.000000</td>\n",
       "    </tr>\n",
       "  </tbody>\n",
       "</table>\n",
       "</div>"
      ],
      "text/plain": [
       "              缺失數       缺失率\n",
       "CryoSleep     217  0.024963\n",
       "ShoppingMall  208  0.023927\n",
       "VIP           203  0.023352\n",
       "HomePlanet    201  0.023122\n",
       "Name          200  0.023007\n",
       "Cabin         199  0.022892\n",
       "VRDeck        188  0.021627\n",
       "FoodCourt     183  0.021051\n",
       "Spa           183  0.021051\n",
       "Destination   182  0.020936\n",
       "RoomService   181  0.020821\n",
       "Age           179  0.020591\n",
       "PassengerId     0  0.000000\n",
       "Transported     0  0.000000"
      ]
     },
     "execution_count": 5,
     "metadata": {},
     "output_type": "execute_result"
    }
   ],
   "source": [
    "total = train.isnull().sum().sort_values(ascending=False)\n",
    "percent = (train.isnull().sum()/train.isnull().count()).sort_values(ascending=False)\n",
    "missing_data = pd.concat([total, percent], axis=1, keys=['缺失數', '缺失率'])\n",
    "missing_data"
   ]
  },
  {
   "attachments": {},
   "cell_type": "markdown",
   "metadata": {},
   "source": [
    "#又從上圖中可以得知每一項的缺失數和缺失率，而圖中只有 PassengerId 跟 Transported 兩者沒有缺失。因此接下來要來處理缺失值。"
   ]
  },
  {
   "attachments": {},
   "cell_type": "markdown",
   "metadata": {},
   "source": [
    "#將\"Unknown\"填到Name的缺失值中"
   ]
  },
  {
   "cell_type": "code",
   "execution_count": 6,
   "metadata": {},
   "outputs": [
    {
     "name": "stdout",
     "output_type": "stream",
     "text": [
      "PassengerId       0\n",
      "HomePlanet      201\n",
      "CryoSleep       217\n",
      "Cabin           199\n",
      "Destination     182\n",
      "Age             179\n",
      "VIP             203\n",
      "RoomService     181\n",
      "FoodCourt       183\n",
      "ShoppingMall    208\n",
      "Spa             183\n",
      "VRDeck          188\n",
      "Name              0\n",
      "Transported       0\n",
      "dtype: int64\n"
     ]
    }
   ],
   "source": [
    "train.Name = train.Name.fillna('Unknown')\n",
    "print(train.isnull().sum())"
   ]
  },
  {
   "attachments": {},
   "cell_type": "markdown",
   "metadata": {},
   "source": [
    "#上圖Name原本缺失的數值經過填充已經沒有缺失值了，再來處理 CryoSleep 和 VIP。"
   ]
  },
  {
   "attachments": {},
   "cell_type": "markdown",
   "metadata": {},
   "source": [
    "#將 False 填入 CryoSleep 列表和 VIP 列表缺失值中。"
   ]
  },
  {
   "cell_type": "code",
   "execution_count": 7,
   "metadata": {},
   "outputs": [
    {
     "name": "stdout",
     "output_type": "stream",
     "text": [
      "PassengerId       0\n",
      "HomePlanet      201\n",
      "CryoSleep         0\n",
      "Cabin           199\n",
      "Destination     182\n",
      "Age             179\n",
      "VIP               0\n",
      "RoomService     181\n",
      "FoodCourt       183\n",
      "ShoppingMall    208\n",
      "Spa             183\n",
      "VRDeck          188\n",
      "Name              0\n",
      "Transported       0\n",
      "dtype: int64\n"
     ]
    }
   ],
   "source": [
    "train['CryoSleep']=train['CryoSleep'].fillna(False)\n",
    "train['VIP']=train['VIP'].fillna(False)\n",
    "print(train.isnull().sum())"
   ]
  },
  {
   "attachments": {},
   "cell_type": "markdown",
   "metadata": {},
   "source": [
    "#上述缺失值都已歸零，接著處理Age"
   ]
  },
  {
   "attachments": {},
   "cell_type": "markdown",
   "metadata": {},
   "source": [
    "#將平均填到缺失值中"
   ]
  },
  {
   "cell_type": "code",
   "execution_count": 8,
   "metadata": {},
   "outputs": [
    {
     "name": "stdout",
     "output_type": "stream",
     "text": [
      "PassengerId       0\n",
      "HomePlanet      201\n",
      "CryoSleep         0\n",
      "Cabin           199\n",
      "Destination     182\n",
      "Age               0\n",
      "VIP               0\n",
      "RoomService     181\n",
      "FoodCourt       183\n",
      "ShoppingMall    208\n",
      "Spa             183\n",
      "VRDeck          188\n",
      "Name              0\n",
      "Transported       0\n",
      "dtype: int64\n"
     ]
    }
   ],
   "source": [
    "train['Age']=train['Age'].fillna(train['Age'].mean())\n",
    "print(train.isnull().sum())"
   ]
  },
  {
   "attachments": {},
   "cell_type": "markdown",
   "metadata": {},
   "source": [
    "#接著處理 RoomService , FoodCourt , ShoppingMall , Spa , VRDeck 的缺失值。"
   ]
  },
  {
   "attachments": {},
   "cell_type": "markdown",
   "metadata": {},
   "source": [
    "#上文中有提到，有些乘客選擇了在冷凍睡眠艙度過旅行時間，因此這些乘客在冷凍睡眠狀態下不會產生這些費用，所以將在他們 RoomService , FoodCourt , ShoppingMall , Spa , VRDeck 有缺失值的部分都填入0。\n",
    "\n",
    "#沒有在冷凍睡眠狀態下度過的乘客則是使用填入平均數的方式處理 RoomService , FoodCourt , ShoppingMall , Spa , VRDeck 的缺失值。"
   ]
  },
  {
   "cell_type": "code",
   "execution_count": 10,
   "metadata": {},
   "outputs": [
    {
     "name": "stdout",
     "output_type": "stream",
     "text": [
      "PassengerId       0\n",
      "HomePlanet      201\n",
      "CryoSleep         0\n",
      "Cabin           199\n",
      "Destination     182\n",
      "Age               0\n",
      "VIP               0\n",
      "RoomService       0\n",
      "FoodCourt         0\n",
      "ShoppingMall      0\n",
      "Spa               0\n",
      "VRDeck            0\n",
      "Name              0\n",
      "Transported       0\n",
      "dtype: int64\n"
     ]
    }
   ],
   "source": [
    "train['RoomService']=train['RoomService'].fillna(train['RoomService'].mean())\n",
    "train['FoodCourt']=train['FoodCourt'].fillna(train['FoodCourt'].mean())\n",
    "train['ShoppingMall']=train['ShoppingMall'].fillna(train['ShoppingMall'].mean())\n",
    "train['Spa']=train['Spa'].fillna(train['Spa'].mean())\n",
    "train['VRDeck']=train['VRDeck'].fillna(train['VRDeck'].mean())\n",
    "print(train.isnull().sum())"
   ]
  },
  {
   "attachments": {},
   "cell_type": "markdown",
   "metadata": {},
   "source": [
    "#在處理 HomePlanet 跟 Destination 前，我們可以透過下面程式碼所產生的圖片觀察到前往TRAPPIST-1e星球的乘客最多，來自於Earth的乘客最多。"
   ]
  },
  {
   "cell_type": "code",
   "execution_count": 11,
   "metadata": {},
   "outputs": [
    {
     "data": {
      "text/html": [
       "<div>\n",
       "<style scoped>\n",
       "    .dataframe tbody tr th:only-of-type {\n",
       "        vertical-align: middle;\n",
       "    }\n",
       "\n",
       "    .dataframe tbody tr th {\n",
       "        vertical-align: top;\n",
       "    }\n",
       "\n",
       "    .dataframe thead th {\n",
       "        text-align: right;\n",
       "    }\n",
       "</style>\n",
       "<table border=\"1\" class=\"dataframe\">\n",
       "  <thead>\n",
       "    <tr style=\"text-align: right;\">\n",
       "      <th></th>\n",
       "      <th></th>\n",
       "      <th>numeric</th>\n",
       "    </tr>\n",
       "    <tr>\n",
       "      <th>Destination</th>\n",
       "      <th>HomePlanet</th>\n",
       "      <th></th>\n",
       "    </tr>\n",
       "  </thead>\n",
       "  <tbody>\n",
       "    <tr>\n",
       "      <th rowspan=\"3\" valign=\"top\">55 Cancri e</th>\n",
       "      <th>Earth</th>\n",
       "      <td>690</td>\n",
       "    </tr>\n",
       "    <tr>\n",
       "      <th>Europa</th>\n",
       "      <td>886</td>\n",
       "    </tr>\n",
       "    <tr>\n",
       "      <th>Mars</th>\n",
       "      <td>193</td>\n",
       "    </tr>\n",
       "    <tr>\n",
       "      <th rowspan=\"3\" valign=\"top\">PSO J318.5-22</th>\n",
       "      <th>Earth</th>\n",
       "      <td>712</td>\n",
       "    </tr>\n",
       "    <tr>\n",
       "      <th>Europa</th>\n",
       "      <td>19</td>\n",
       "    </tr>\n",
       "    <tr>\n",
       "      <th>Mars</th>\n",
       "      <td>49</td>\n",
       "    </tr>\n",
       "    <tr>\n",
       "      <th rowspan=\"3\" valign=\"top\">TRAPPIST-1e</th>\n",
       "      <th>Earth</th>\n",
       "      <td>3101</td>\n",
       "    </tr>\n",
       "    <tr>\n",
       "      <th>Europa</th>\n",
       "      <td>1189</td>\n",
       "    </tr>\n",
       "    <tr>\n",
       "      <th>Mars</th>\n",
       "      <td>1475</td>\n",
       "    </tr>\n",
       "  </tbody>\n",
       "</table>\n",
       "</div>"
      ],
      "text/plain": [
       "                          numeric\n",
       "Destination   HomePlanet         \n",
       "55 Cancri e   Earth           690\n",
       "              Europa          886\n",
       "              Mars            193\n",
       "PSO J318.5-22 Earth           712\n",
       "              Europa           19\n",
       "              Mars             49\n",
       "TRAPPIST-1e   Earth          3101\n",
       "              Europa         1189\n",
       "              Mars           1475"
      ]
     },
     "execution_count": 11,
     "metadata": {},
     "output_type": "execute_result"
    }
   ],
   "source": [
    "analys = train.loc[:,['HomePlanet','Destination']]\n",
    "analys['numeric'] =1\n",
    "analys.groupby(['Destination','HomePlanet']).count()"
   ]
  },
  {
   "attachments": {},
   "cell_type": "markdown",
   "metadata": {},
   "source": [
    "#由於上述的發現，因此將 TRAPPIST-1e 和 Earth 填入到 HomePlanet 列和 Destination 列對應的缺失值中。"
   ]
  },
  {
   "cell_type": "code",
   "execution_count": 12,
   "metadata": {},
   "outputs": [
    {
     "name": "stdout",
     "output_type": "stream",
     "text": [
      "PassengerId       0\n",
      "HomePlanet        0\n",
      "CryoSleep         0\n",
      "Cabin           199\n",
      "Destination       0\n",
      "Age               0\n",
      "VIP               0\n",
      "RoomService       0\n",
      "FoodCourt         0\n",
      "ShoppingMall      0\n",
      "Spa               0\n",
      "VRDeck            0\n",
      "Name              0\n",
      "Transported       0\n",
      "dtype: int64\n"
     ]
    }
   ],
   "source": [
    "train['Destination']=train['Destination'].fillna('TRAPPIST-1e')\n",
    "train['HomePlanet']=train['HomePlanet'].fillna('Earth')\n",
    "print(train.isnull().sum())"
   ]
  },
  {
   "attachments": {},
   "cell_type": "markdown",
   "metadata": {},
   "source": [
    "#由圖可知，除了Cabin這項沒有處理，其他缺失值都透過方法填補了，而任務中並沒有提到Cabin的處理規範，因此先不處理，也不影響測試結果。"
   ]
  }
 ],
 "metadata": {
  "kernelspec": {
   "display_name": "Python 3",
   "language": "python",
   "name": "python3"
  },
  "language_info": {
   "codemirror_mode": {
    "name": "ipython",
    "version": 3
   },
   "file_extension": ".py",
   "mimetype": "text/x-python",
   "name": "python",
   "nbconvert_exporter": "python",
   "pygments_lexer": "ipython3",
   "version": "3.9.13"
  },
  "orig_nbformat": 4
 },
 "nbformat": 4,
 "nbformat_minor": 2
}
